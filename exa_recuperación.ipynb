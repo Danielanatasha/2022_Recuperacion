{
 "cells": [
  {
   "cell_type": "markdown",
   "id": "93e0bb2c",
   "metadata": {},
   "source": [
    "<img src=\"https://www.ikiam.edu.ec/img/logo-ikiam-grey.png\" width=200 height=150 />\n",
    "\n",
    "\n",
    "# EXAMEN RECUPERACIÓN PYTHON\n",
    "    \n",
    "\n",
    "## GBI6-2021II: BIOINFORMÁTICA\n",
    "\n",
    "**Endara Carrillo, Daniela Natasha** \n"
   ]
  },
  {
   "cell_type": "markdown",
   "id": "9823b723",
   "metadata": {},
   "source": [
    "# Ribosomas \n",
    "Los ribosomas son unas estructuras o partículas citoplásmicas formadas por ribonucleoproteínas, que son la unión de ARN ribosómicos con proteínas ribosomales.Los ribosomas en las células eucarióticas se encuentran en la membrana del retículo endoplasmático. La estructura general de los ribosomas procarióticos y eucarióticos consta de una subunidad pequeña, una subunidad grande y dos sedes, la sede aminoacídica (Sede A) lugar de entrada de los ARN-t cargados con un aminoácido (aminoacil-ARN-t) y la sede peptídica (Sede P) lugar en el que se encuentran los ARN-t cargados con un péptido (peptidil-ARN-t) (Dincova,2009). \n",
    "\n",
    "<img src=\"https://t2.ev.ltmcdn.com/es/posts/5/9/7/ribosomas_funcion_y_estructura_3795_600.jpg\" width=500 height=300 />\n",
    "\n",
    "Por otro lado, el ribosoma esta implicado en el proceso de traducción de ADN. Como sabemos la traducción implica decodificar el ARNm y usar esta información para formar una proteina. El ARNm tiene en el tres nucleotidos llamados codones que seran las instrucciones para formar la proteina. En la traducción, los codones de un ARNm se leen mediante moléculas llamadas ARNt de transferencia. Los ARNt se unen a los ARNm en el ribosoma. A medida que los ARNt entran a los espacios en el ribosoma y se unen a los codones, sus aminoácidos se unen a la cadena de polipéptidos creciente en una reacción química. El resultado final es un polipéptido\n",
    "\n",
    "<img src=\"https://cdn.kastatic.org/ka-perseus-images/2d05e1ed3456e514fa978a750a8e47b691712e36.png\" width=500 height=300 />\n",
    "\n",
    "Como dijimos la estrucctura del ribosoma consta de dos subunidades, una grande otra pequeña. Ambas estas relacionanas con el procesos de traduccion, y ayudan al ARNt y al ARNm a unirse. Primero, el ARNt que lleva metioina se une a la subunidad ribosomal pequeña. Juntos, se unen al extremo 5' del ARNm al reconocer el casquete de GTP 5' (que se agregó durante el procesamiento en el núcleo). Luego, \"caminan\" sobre el ARNm en la dirección 3', y se detienen cuando llegan al codon de inicio. (Blanc, 2019).\n",
    "\n",
    "\n",
    "<img <img src=\"https://cdn.kastatic.org/ka-perseus-images/1e646e6644b4d1ec3799a9d767e0e60a68d7f93f.png\" width=500 height=300 />\" "
   ]
  },
  {
   "cell_type": "markdown",
   "id": "7a29316b",
   "metadata": {},
   "source": [
    "## PREGUNTA 1"
   ]
  },
  {
   "cell_type": "code",
   "execution_count": null,
   "id": "ea71b280",
   "metadata": {},
   "outputs": [],
   "source": [
    "https://github.com/Danielanatasha/2022_Recuperacion.git"
   ]
  },
  {
   "cell_type": "markdown",
   "id": "8da76605",
   "metadata": {},
   "source": [
    "## PREGUNTA 2 "
   ]
  },
  {
   "cell_type": "code",
   "execution_count": 38,
   "id": "d981b08b",
   "metadata": {},
   "outputs": [],
   "source": [
    "from Bio import Phylo\n",
    "from Bio import SeqIO\n",
    "from Bio import AlignIO\n",
    "from Bio.Phylo.TreeConstruction import DistanceCalculator\n",
    "from Bio.Phylo.TreeConstruction import DistanceTreeConstructor\n",
    "from Bio import Entrez\n",
    "import re\n",
    "import os \n",
    "from Bio.Align.Applications import ClustalwCommandline\n",
    "\n",
    "id_total = [\"NM_002295\", \"NM_002952\", \"NM_001005\", \"NM_001006\", \"NM_001007\", \"NM_001008\", \"NM_001039567\", \"NM_001009\", \"NM_001010\",\"NM_001011\"]\n",
    "\n",
    "out_sequence = open(\"secuencias1.gb\", \"w\")\n",
    "\n",
    "records = []\n",
    "comentarios = []\n",
    "l_celula_sana = []\n",
    "l_celula_enferma = []\n",
    "seq_enferma = []\n",
    "seq_sana = []\n",
    "id_enferma = []\n",
    "id_sana = []"
   ]
  },
  {
   "cell_type": "markdown",
   "id": "62f4fc02",
   "metadata": {},
   "source": [
    " "
   ]
  },
  {
   "cell_type": "code",
   "execution_count": 39,
   "id": "72d6f2a3",
   "metadata": {},
   "outputs": [
    {
     "name": "stdout",
     "output_type": "stream",
     "text": [
      "celula enferma\n",
      "celula sana\n",
      "celula sana\n",
      "celula sana\n",
      "celula sana\n",
      "celula sana\n",
      "celula sana\n",
      "celula enferma\n",
      "celula sana\n",
      "celula sana\n",
      "\n",
      " REVIEWED REFSEQ: This record has been curated by NCBI staff in\n",
      "collaboration with Francesco Amaldi. The reference sequence was\n",
      "derived from BU963807.1, BC002866.2 and BF312642.1.\n",
      "This sequence is a reference standard in the RefSeqGene project.\n",
      "On May 11, 2018 this sequence version replaced NM_001011.3.\n",
      "Summary: Ribosomes, the organelles that catalyze protein synthesis,\n",
      "consist of a small 40S subunit and a large 60S subunit. Together\n",
      "these subunits are composed of 4 RNA species and approximately 80\n",
      "structurally distinct proteins. This gene encodes a ribosomal\n",
      "protein that is a component of the 40S subunit. The protein belongs\n",
      "to the S7E family of ribosomal proteins. It is located in the\n",
      "cytoplasm. As is typical for genes encoding ribosomal proteins,\n",
      "there are multiple processed pseudogenes of this gene dispersed\n",
      "through the genome. [provided by RefSeq, Jul 2008].\n",
      "Publication Note:  This RefSeq record includes a subset of the\n",
      "publications that are available for this gene. Please see the Gene\n",
      "record to access additional publications.\n",
      "COMPLETENESS: full length. \n",
      "\n"
     ]
    }
   ],
   "source": [
    "Entrez.email = \"daniela.endara@est.ikiam.edu.ec\" \n",
    "with Entrez.efetch( db=\"nucleotide\", rettype=\"gb\", retmode=\"text\", id= id_total\n",
    "                  ) as handle: \n",
    "    for seq_record in SeqIO.parse(handle, \"gb\"): \n",
    "        out_sequence.write(str(seq_record))\n",
    "        record = seq_record.annotations \n",
    "        records.append(record)\n",
    "        comentarios.append(record[\"comment\"])\n",
    "\n",
    "        if \"cancer\" in record[\"comment\"]:\n",
    "            l_celula_enferma.append(len(seq_record))\n",
    "            seq_enferma.append(repr(seq_record.seq))\n",
    "            id_enferma.append(seq_record.id)\n",
    "            print (\"celula enferma\")\n",
    "        else: \n",
    "            l_celula_sana.append(len(seq_record))\n",
    "            seq_sana.append(repr(seq_record.seq))\n",
    "            id_sana.append(seq_record.id)\n",
    "            print (\"celula sana\")\n",
    "            \n",
    "print (\"\\n\", record[\"comment\"], \"\\n\")"
   ]
  },
  {
   "cell_type": "markdown",
   "id": "1ad2342b",
   "metadata": {},
   "source": [
    "## PREGUNTA 3"
   ]
  },
  {
   "cell_type": "code",
   "execution_count": 40,
   "id": "f8b6d021",
   "metadata": {},
   "outputs": [
    {
     "data": {
      "image/png": "[encoded data removed]",
      "text/plain": [
       "<Figure size 432x288 with 1 Axes>"
      ]
     },
     "metadata": {
      "needs_background": "light"
     },
     "output_type": "display_data"
    }
   ],
   "source": [
    "import matplotlib\n",
    "import matplotlib.pyplot as plt\n",
    "plt.hist(l_celula_sana, bins = 5, color = \"purple\", rwidth=0.7)\n",
    "plt.title(\"Celulas sanas\")\n",
    "plt.xlabel(\"Longitud de secuencia\")\n",
    "plt.ylabel(\"Frecuencia\")\n",
    "plt.show()"
   ]
  },
  {
   "cell_type": "code",
   "execution_count": 41,
   "id": "9826d9da",
   "metadata": {},
   "outputs": [
    {
     "data": {
      "image/png": "[encoded data removed]",
      "text/plain": [
       "<Figure size 432x288 with 1 Axes>"
      ]
     },
     "metadata": {
      "needs_background": "light"
     },
     "output_type": "display_data"
    }
   ],
   "source": [
    "plt.hist(l_celula_enferma, bins = 5, color = \"green\", rwidth=0.7)\n",
    "plt.title(\"Celulas enfermas\")\n",
    "plt.xlabel(\"Longitud de secuencia\")\n",
    "plt.ylabel(\"Frecuencia\")\n",
    "plt.show()"
   ]
  },
  {
   "cell_type": "markdown",
   "id": "0c18cba4",
   "metadata": {},
   "source": [
    "Analisis de secuencias, se hizo el ploteo de dos histogramas; en el primero es relacionado a celulas sanas y el segundo a celuals enfermas. \n",
    "\n",
    "En el primer grafico se puede observar que los valores son distribuidos ampliamente y se encontraron secuencias en un rango de 1000 a 2000 con una frecuencia mayoritaria en los valores cercanos a los 800 a 1000 pb. Con el minado de datos se pueden distinguir que las secuencias sanas fueron las que presentaron mayores registros alrededor de 8 secuencias y las enfermas unicamente 2 secuencias. "
   ]
  },
  {
   "cell_type": "markdown",
   "id": "09fb5f37",
   "metadata": {},
   "source": [
    "## PREGUNTA 4 "
   ]
  },
  {
   "cell_type": "code",
   "execution_count": 36,
   "id": "9ab3d9fb",
   "metadata": {},
   "outputs": [],
   "source": [
    "from Bio import Entrez\n",
    "id_total = id_sana + id_enferma\n",
    "\n",
    "\n",
    "out_sequence = open(\"secuencias1.fasta\", \"w\")\n",
    "\n",
    "for linea in id_total:  \n",
    "    Entrez.email=\"daniela.endara@est.ikiam.edu.ec\"\n",
    "    handle=Entrez.efetch(db=\"nucleotide\" ,id=linea ,rettype=\"fasta\", retmode=\"text\")\n",
    "    data=(handle.read())\n",
    "    out_sequence.write(data)\n",
    "out_sequence.close()"
   ]
  },
  {
   "cell_type": "code",
   "execution_count": 42,
   "id": "34834729",
   "metadata": {},
   "outputs": [
    {
     "ename": "AssertionError",
     "evalue": "Clustal_W executable is missing or not found",
     "output_type": "error",
     "traceback": [
      "\u001b[0;31m---------------------------------------------------------------------------\u001b[0m",
      "\u001b[0;31mAssertionError\u001b[0m                            Traceback (most recent call last)",
      "Input \u001b[0;32mIn [42]\u001b[0m, in \u001b[0;36m<cell line: 3>\u001b[0;34m()\u001b[0m\n\u001b[1;32m      1\u001b[0m clustalw_exe \u001b[38;5;241m=\u001b[39m \u001b[38;5;124m\"\u001b[39m\u001b[38;5;124m/Users/danielaendara/clustalw-2.1-macosx/ClustalW2/clustalw2.exe\u001b[39m\u001b[38;5;124m\"\u001b[39m\n\u001b[1;32m      2\u001b[0m clustalw_cline \u001b[38;5;241m=\u001b[39m ClustalwCommandline(clustalw_exe, infile \u001b[38;5;241m=\u001b[39m \u001b[38;5;124m\"\u001b[39m\u001b[38;5;124msecuencias1.fasta\u001b[39m\u001b[38;5;124m\"\u001b[39m)\n\u001b[0;32m----> 3\u001b[0m \u001b[38;5;28;01massert\u001b[39;00m os\u001b[38;5;241m.\u001b[39mpath\u001b[38;5;241m.\u001b[39misfile(clustalw_exe), \u001b[38;5;124m\"\u001b[39m\u001b[38;5;124mClustal_W executable is missing or not found\u001b[39m\u001b[38;5;124m\"\u001b[39m\n\u001b[1;32m      4\u001b[0m stdout, stderr \u001b[38;5;241m=\u001b[39m clustalw_cline()\n\u001b[1;32m      5\u001b[0m \u001b[38;5;28mprint\u001b[39m(clustalw_cline)\n",
      "\u001b[0;31mAssertionError\u001b[0m: Clustal_W executable is missing or not found"
     ]
    }
   ],
   "source": [
    "clustalw_exe = \"/Users/danielaendara/clustalw-2.1-macosx/ClustalW2/clustalw2.exe\"\n",
    "clustalw_cline = ClustalwCommandline(clustalw_exe, infile = \"secuencias1.fasta\")\n",
    "assert os.path.isfile(clustalw_exe), \"Clustal_W executable is missing or not found\"\n",
    "stdout, stderr = clustalw_cline()\n",
    "print(clustalw_cline)\n",
    "ClustalAlign = AlignIO.read(\"secuencias1.aln\", \"clustal\")\n",
    "print(ClustalAlign)\n",
    "tree = Phylo.read(\"secuencias1.dnd\", \"newick\")"
   ]
  },
  {
   "cell_type": "code",
   "execution_count": null,
   "id": "daa9f8a5",
   "metadata": {},
   "outputs": [],
   "source": [
    "with open(\"secuencias1.aln\",\"r\") as aln: \n",
    "    alignment = AlignIO.read(aln,\"clustal\")\n",
    "    \n",
    "from Bio.Phylo.TreeConstruction import DistanceCalculator \n",
    "calculator = DistanceCalculator('identity')\n",
    " \n",
    "distance_matrix = calculator.get_distance(alignment)\n",
    "\n",
    "\n",
    "from Bio.Phylo.TreeConstruction import DistanceTreeConstructor\n",
    "constructor = DistanceTreeConstructor(calculator)\n",
    "\n",
    "# Construir el arbol \n",
    "align_total = constructor.build_tree(alignment)\n",
    "align_total.rooted = True\n",
    "Phylo.write(align_total, \"align_protein_ribosomal.xml\", \"phyloxml\")\n",
    "\n",
    "align_protein_ribosomal = Phylo.read(file=\"align_protein_ribosomal.xml\", format= \"phyloxml\")\n",
    "\n",
    "# Arbol elemental en Matplotlib\n",
    "import matplotlib\n",
    "import matplotlib.pyplot as plt\n",
    "fig = Phylo.draw(cis_tree)\n",
    "\n",
    "fig = plt.figure(figsize=(30, 40), dpi=100)  \n",
    "matplotlib.rc('font', size=20)             \n",
    "matplotlib.rc('xtick', labelsize=20)       \n",
    "matplotlib.rc('ytick', labelsize=20)       \n",
    "axes = fig.add_subplot(1, 1, 1)\n",
    "Phylo.draw(align_protein_ribosomal, axes=axes)\n",
    "fig.savefig(\"align_protein_ribosomal.jpg\")"
   ]
  },
  {
   "cell_type": "markdown",
   "id": "e5a4e563",
   "metadata": {},
   "source": [
    "### Referencia Bibliograficas \n",
    "Bank (2019). Dogma de la biologia molecular. Recuperado de http://www5.udec.cl/cade/wp-content/uploads/2020/08/biologia-biologia-molecular-dogma-de-la-biologia-molecular.pdf\n",
    "Din\n"
   ]
  },
  {
   "cell_type": "code",
   "execution_count": null,
   "id": "c95c50ff",
   "metadata": {},
   "outputs": [],
   "source": []
  }
 ],
 "metadata": {
  "kernelspec": {
   "display_name": "Python 3 (ipykernel)",
   "language": "python",
   "name": "python3"
  },
  "language_info": {
   "codemirror_mode": {
    "name": "ipython",
    "version": 3
   },
   "file_extension": ".py",
   "mimetype": "text/x-python",
   "name": "python",
   "nbconvert_exporter": "python",
   "pygments_lexer": "ipython3",
   "version": "3.9.12"
  }
 },
 "nbformat": 4,
 "nbformat_minor": 5
}
