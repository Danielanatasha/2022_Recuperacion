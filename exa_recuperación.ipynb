{
 "cells": [
  {
   "cell_type": "markdown",
   "id": "93e0bb2c",
   "metadata": {},
   "source": [
    "<img src=\"https://www.ikiam.edu.ec/img/logo-ikiam-grey.png\" width=200 height=150 />\n",
    "\n",
    "\n",
    "# EXAMEN RECUPERACIÓN PYTHON\n",
    "    \n",
    "\n",
    "## GBI6-2021II: BIOINFORMÁTICA\n",
    "\n",
    "**Endara Carrillo, Daniela Natasha** \n"
   ]
  },
  {
   "cell_type": "markdown",
   "id": "59756060",
   "metadata": {},
   "source": [
    "# RIBOSMAS\n",
    "\n",
    "Los ribosomas son la maquinaria celular dónde se sintetizan las proteínas. Un ribosoma es un gran complejo macromolecular compuesto por más de 50 proteínas diferentes (proteínas ribosómicas) y varias moléculas de ARN denominadas ARN ribosómicos (ARNr). Los ribosomas miden entre 15 y 30 nanómetros de diámetro, por lo que sólo son visibles con el microscópio electrónico. (Rodirguez, et al.2012). \n",
    "\n",
    "<img src=\"http://4.bp.blogspot.com/-8nHYSflXpz8/UuHSm0OuXZI/AAAAAAAAaCw/F9P6LqfEA9A/s1600/Polirribosomas.jpg\" width=500 height=300 />\n",
    "\n",
    "### ESTRUCTURA DEL RIBOSOMA \n",
    "\n",
    "La estructura general de los ribosomas procarióticos y eucarióticos consta de una subunidad pequeña, una subunidad grande y dos sedes, la sede aminoacídica (Sede A) lugar de entrada de los ARN-t cargados con un aminoácido (aminoacil-ARN-t) y la sede peptídica (Sede P) lugar en el que se encuentran los ARN-t cargados con un péptido (peptidil-ARN-t).(Dincova & Sánchez, 2010). \n",
    "\n",
    "<img src=\"http://www7.uc.cl/sw_educ/biologia/bio100/imagenes/7853dc34af7filenameFA310typeimagejpeg.jpg\" width=400 height=300 />\n",
    "\n",
    "### EL PROCESO DE TRADUCCIÓN Y EL RIBOSOMA \n",
    "\n",
    "Las subunidades ribosomales llevan a cabo distintas funciones durante la síntesis de proteínas, la subunidad ribosomal pequeña interacciona con el ARNm durante el inicio de la traducción y decodifica el mensaje (Gualerzi, et al.,2000). El ARNm contiene tres nucleotidos llamados codones que seran las instrucciones para formar la proteina. En la traducción, los codones de un ARNm se leen mediante los ARNt,  ya que contiene el centro de decodificación el cual se asegura que el tRNA con el anticodón correcto este unido al ribosoma y se aparee con el codón del mRNA. Por otro lado, la subunidad grande cataliza la formación del enlace peptídico (Steitz & Moore, 2003) mediante el centro de peptidiltransferasa (PTC, por sus siglas en inglés). La función y calidad de los ribosomas determinan la eficiencia de traduccción. La célula no solo necesita la cantidad correcta de ribosomas, sino que además aquellos ribosomas producidos deben funcionar correctamente (van de Peer et al., 1999).\n",
    "\n",
    "<img src=\"http://www7.uc.cl/sw_educ/biologia/bio100/imagenes/78a3dc34afcfilenameFA315typeimagejpeg.jpg\" width=500 height=300 />\n",
    "\n",
    "El siguiente trabajo consiste en hacer un minado datos en busca de genes relacionadas a cancer que tendan que ver con las subunidades ribosomales en este caso nos centraremos enla ribunidades ribosomales pequeñas. Para llevar a cabo esta actividadad, se hara uso de herramientas bioinformaticas...\n",
    "\n",
    "### BIOPYTHON \n",
    "<img src=\"https://upload.wikimedia.org/wikipedia/commons/thumb/1/13/Biopython_logo.png/490px-Biopython_logo.png\" width=300 height=250 />\n",
    "\n",
    "Son programas informáticos que se usan para cuantificar y hacer cálculos con datos biológicos. Su objetivo principal es el de desarrollar el mayor número posible de bibliotecas informáticas basadas en el lenguaje de programación Python, que tengan aplicaciones bioinformáticas. "
   ]
  },
  {
   "cell_type": "markdown",
   "id": "8e7d12b6",
   "metadata": {},
   "source": [
    "## PREGUNTA 1"
   ]
  },
  {
   "cell_type": "code",
   "execution_count": null,
   "id": "3247cdcb",
   "metadata": {},
   "outputs": [],
   "source": [
    "https://github.com/Danielanatasha/2022_Recuperacion.git"
   ]
  },
  {
   "cell_type": "markdown",
   "id": "d352b198",
   "metadata": {},
   "source": [
    "## PREGUNTA 2 "
   ]
  },
  {
   "cell_type": "code",
   "execution_count": 59,
   "id": "d981b08b",
   "metadata": {},
   "outputs": [],
   "source": [
    "## primero importamos los paquetes necesarios para realizar las actividades\n",
    "from Bio import Phylo\n",
    "from Bio import SeqIO\n",
    "from Bio import AlignIO\n",
    "from Bio.Phylo.TreeConstruction import DistanceCalculator\n",
    "from Bio.Phylo.TreeConstruction import DistanceTreeConstructor\n",
    "from Bio import Entrez\n",
    "import re\n",
    "import os \n",
    "from Bio.Align.Applications import ClustalwCommandline\n",
    "\n",
    "## se realiza una busqueda en la base de datos en https://www.genenames.org/data/genegroup/#!/group/1054 \n",
    "## y elegimos los genes que codificab a las proteinas ribosomales S ribosomal proteins y obtenemos \n",
    "## los codigos del genbank. Creamos un lista con el conjunto de id de los genes de estas proteinas. \n",
    "\n",
    "id_total = [\"NM_002295\", \"NM_002952\", \"NM_001005\", \"NM_001006\", \"NM_001007\", \"NM_001008\", \"NM_001039567\", \"NM_001009\", \"NM_001010\", \"NM_001011\",  \n",
    "            \"NM_001012\", \"NM_001013\", \"NM_001014\", \"NM_001015\", \"NM_001016\", \"NM_001017\", \"NM_001025071\", \"NM_001018\", \"NM_001019\", \"NM_001020\"]\n",
    "\n",
    "out_sequence = open(\"secuencias1.gb\", \"w\")\n",
    "\n",
    "\n",
    "## se crea listas vacias para posteriormente guardar los resultados que me arrojaran \n",
    "## la ejecucion de los codigos siguientes. \n",
    "records = []\n",
    "comentarios = []\n",
    "l_celula_sana = []\n",
    "l_celula_enferma = []\n",
    "seq_enferma = []\n",
    "seq_sana = []\n",
    "id_enferma = []\n",
    "id_sana = []"
   ]
  },
  {
   "cell_type": "markdown",
   "id": "2bc2144e",
   "metadata": {},
   "source": [
    " "
   ]
  },
  {
   "cell_type": "code",
   "execution_count": 60,
   "id": "27a04fb9",
   "metadata": {},
   "outputs": [
    {
     "name": "stdout",
     "output_type": "stream",
     "text": [
      "la secuencia NM_002295.6 es una celula enferma\n",
      "la secuencia NM_002952.4 es una celula sana\n",
      "la secuencia NM_001005.5 es una celula sana\n",
      "la secuencia NM_001006.5 es una celula sana\n",
      "la secuencia NM_001007.5 es una celula sana\n",
      "la secuencia NM_001008.4 es una celula sana\n",
      "la secuencia NM_001039567.3 es una celula sana\n",
      "la secuencia NM_001009.4 es una celula enferma\n",
      "la secuencia NM_001010.3 es una celula sana\n",
      "la secuencia NM_001011.4 es una celula sana\n",
      "la secuencia NM_001012.2 es una celula sana\n",
      "la secuencia NM_001013.4 es una celula enferma\n",
      "la secuencia NM_001014.5 es una celula enferma\n",
      "la secuencia NM_001015.5 es una celula sana\n",
      "la secuencia NM_001016.4 es una celula enferma\n",
      "la secuencia NM_001017.3 es una celula sana\n",
      "la secuencia NM_001025071.2 es una celula sana\n",
      "la secuencia NM_001018.5 es una celula enferma\n",
      "la secuencia NM_001019.5 es una celula sana\n",
      "la secuencia NM_001020.6 es una celula sana\n"
     ]
    }
   ],
   "source": [
    "## Ingreamos al Entrez, siempre identificandonos quien ingresa hacer la busqueda de datos,\n",
    "## para luego descarga del genbank en formato gb las secuencias de los id obtenidas de \n",
    "##la busqueda. \n",
    "\n",
    "Entrez.email = \"daniela.endara@est.ikiam.edu.ec\" \n",
    "with Entrez.efetch( db=\"nucleotide\", rettype=\"gb\", retmode=\"text\", id= id_total\n",
    "                  ) as handle: \n",
    "    for seq_record in SeqIO.parse(handle, \"gb\"): \n",
    "        out_sequence.write(str(seq_record)) \n",
    "        record = seq_record.annotations \n",
    "        records.append(record)\n",
    "        comentarios.append(record[\"comment\"])\n",
    "\n",
    "        if \"cancer\" in record[\"comment\"]:\n",
    "            l_celula_enferma.append(len(seq_record))\n",
    "            seq_enferma.append(repr(seq_record.seq))\n",
    "            id_enferma.append(seq_record.id)\n",
    "            print (\"la secuencia\", seq_record.id, \"es una celula enferma\")\n",
    "        else: \n",
    "            l_celula_sana.append(len(seq_record))\n",
    "            seq_sana.append(repr(seq_record.seq))\n",
    "            id_sana.append(seq_record.id)\n",
    "            print (\"la secuencia\", seq_record.id, \"es una celula sana\")\n",
    "            "
   ]
  },
  {
   "cell_type": "markdown",
   "id": "4c7dabad",
   "metadata": {},
   "source": [
    "## PREGUNTA 3"
   ]
  },
  {
   "cell_type": "code",
   "execution_count": 61,
   "id": "f8b6d021",
   "metadata": {},
   "outputs": [
    {
     "data": {
      "image/png": "[encoded data removed]",
      "text/plain": [
       "<Figure size 432x288 with 1 Axes>"
      ]
     },
     "metadata": {
      "needs_background": "light"
     },
     "output_type": "display_data"
    }
   ],
   "source": [
    "import matplotlib\n",
    "import matplotlib.pyplot as plt\n",
    "plt.hist(l_celula_sana, bins = 5, color = \"purple\", rwidth=0.7)\n",
    "plt.title(\"Celulas sanas\")\n",
    "plt.xlabel(\"Longitud de secuencia\")\n",
    "plt.ylabel(\"Frecuencia\")\n",
    "plt.show()"
   ]
  },
  {
   "cell_type": "code",
   "execution_count": 62,
   "id": "9826d9da",
   "metadata": {},
   "outputs": [
    {
     "data": {
      "image/png": "[encoded data removed]",
      "text/plain": [
       "<Figure size 432x288 with 1 Axes>"
      ]
     },
     "metadata": {
      "needs_background": "light"
     },
     "output_type": "display_data"
    }
   ],
   "source": [
    "plt.hist(l_celula_enferma, bins = 5, color = \"green\", rwidth=0.7)\n",
    "plt.title(\"Celulas enfermas\")\n",
    "plt.xlabel(\"Longitud de secuencia\")\n",
    "plt.ylabel(\"Frecuencia\")\n",
    "plt.show()"
   ]
  },
  {
   "cell_type": "markdown",
   "id": "32d53ea2",
   "metadata": {},
   "source": [
    "Se hizo el ploteo de dos histogramas con las longitudes de las secuencias; en el primero es relacionado a celulas sanas y el segundo a celuals enfermas. \n",
    "\n",
    "En el primer grafico se puede observar que la longitud de las secuencias de celulas sanas estan en un un rango 700 a 2300 gb. con frecuencias relativamente pequeñas. Por otro lado, en el grafico de ceulas enfermas podemos ver que la longitud de las secuencias estan en rangos de entre los 500 a los 1100 gb, pero con elevados indices de frecuencia, se puede decir que las secuencias mayores a 750 y  menores de 2300 gb se podrian considerar que serian celulas sanas a diferencia que si presentan una longitud de entre los 550 a loa 1100 se podria conciderar una celula enferma. Por otro lado en el minado de dato podemos observar que en esta subunidad pequeña los genes que codifican para un tipo de cancer es menor a las que codifican en celulas sanas, de los 20 secuencias selecionadas, se encontro que que 6 genes estan relacionados a celulas enfermas o cancer. Sin embago para poder separar estos datos de celulas sanas o efermas con un nivel mas alto de eficiencia, se tendria que colocar otros filtros que permitan al codigo indentificar estas variaciones. "
   ]
  },
  {
   "cell_type": "markdown",
   "id": "d89bbf62",
   "metadata": {},
   "source": [
    "## PREGUNTA 4 "
   ]
  },
  {
   "cell_type": "code",
   "execution_count": 52,
   "id": "9ab3d9fb",
   "metadata": {},
   "outputs": [],
   "source": [
    "from Bio import Entrez\n",
    "id_total = id_sana + id_enferma\n",
    "\n",
    "\n",
    "out_sequence = open(\"secuencias1.fasta\", \"w\")\n",
    "\n",
    "for linea in id_total:  \n",
    "    Entrez.email=\"daniela.endara@est.ikiam.edu.ec\"\n",
    "    handle=Entrez.efetch(db=\"nucleotide\" ,id=linea ,rettype=\"fasta\", retmode=\"text\")\n",
    "    data=(handle.read())\n",
    "    out_sequence.write(data)\n",
    "out_sequence.close()"
   ]
  },
  {
   "cell_type": "code",
   "execution_count": 58,
   "id": "05bfb31a",
   "metadata": {},
   "outputs": [
    {
     "ename": "AssertionError",
     "evalue": "Clustal_W executable is missing or not found",
     "output_type": "error",
     "traceback": [
      "\u001b[0;31m---------------------------------------------------------------------------\u001b[0m",
      "\u001b[0;31mAssertionError\u001b[0m                            Traceback (most recent call last)",
      "Input \u001b[0;32mIn [58]\u001b[0m, in \u001b[0;36m<cell line: 3>\u001b[0;34m()\u001b[0m\n\u001b[1;32m      1\u001b[0m clustalw_exe \u001b[38;5;241m=\u001b[39m \u001b[38;5;124m\"\u001b[39m\u001b[38;5;124m/clustalw-2.1-macosx/ClustalW2/clustalw2.exe\u001b[39m\u001b[38;5;124m\"\u001b[39m\n\u001b[1;32m      2\u001b[0m clustalw_cline \u001b[38;5;241m=\u001b[39m ClustalwCommandline(clustalw_exe, infile \u001b[38;5;241m=\u001b[39m \u001b[38;5;124m\"\u001b[39m\u001b[38;5;124msecuencias1.fasta\u001b[39m\u001b[38;5;124m\"\u001b[39m)\n\u001b[0;32m----> 3\u001b[0m \u001b[38;5;28;01massert\u001b[39;00m os\u001b[38;5;241m.\u001b[39mpath\u001b[38;5;241m.\u001b[39misfile(clustalw_exe), \u001b[38;5;124m\"\u001b[39m\u001b[38;5;124mClustal_W executable is missing or not found\u001b[39m\u001b[38;5;124m\"\u001b[39m\n\u001b[1;32m      4\u001b[0m stdout, stderr \u001b[38;5;241m=\u001b[39m clustalw_cline()\n\u001b[1;32m      5\u001b[0m \u001b[38;5;28mprint\u001b[39m(clustalw_cline)\n",
      "\u001b[0;31mAssertionError\u001b[0m: Clustal_W executable is missing or not found"
     ]
    }
   ],
   "source": [
    "clustalw_exe = \"/clustalw-2.1-macosx/ClustalW2/clustalw2.exe\"\n",
    "clustalw_cline = ClustalwCommandline(clustalw_exe, infile = \"secuencias1.fasta\")\n",
    "assert os.path.isfile(clustalw_exe), \"Clustal_W executable is missing or not found\"\n",
    "stdout, stderr = clustalw_cline()\n",
    "print(clustalw_cline)\n",
    "ClustalAlign = AlignIO.read(\"secuencias1.aln\", \"clustal\")\n",
    "print(ClustalAlign)\n",
    "tree = Phylo.read(\"secuencias1.dnd\", \"newick\")"
   ]
  },
  {
   "cell_type": "code",
   "execution_count": 47,
   "id": "8cae07d0",
   "metadata": {},
   "outputs": [
    {
     "ename": "FileNotFoundError",
     "evalue": "[Errno 2] No such file or directory: 'clustalw2.exe'",
     "output_type": "error",
     "traceback": [
      "\u001b[0;31m---------------------------------------------------------------------------\u001b[0m",
      "\u001b[0;31mFileNotFoundError\u001b[0m                         Traceback (most recent call last)",
      "Input \u001b[0;32mIn [47]\u001b[0m, in \u001b[0;36m<cell line: 1>\u001b[0;34m()\u001b[0m\n\u001b[0;32m----> 1\u001b[0m archivo\u001b[38;5;241m=\u001b[39m\u001b[38;5;28;43mopen\u001b[39;49m\u001b[43m(\u001b[49m\u001b[38;5;124;43m\"\u001b[39;49m\u001b[38;5;124;43mclustalw2.exe\u001b[39;49m\u001b[38;5;124;43m\"\u001b[39;49m\u001b[43m)\u001b[49m\n\u001b[1;32m      2\u001b[0m \u001b[38;5;28mprint\u001b[39m (archivo)\n",
      "\u001b[0;31mFileNotFoundError\u001b[0m: [Errno 2] No such file or directory: 'clustalw2.exe'"
     ]
    }
   ],
   "source": [
    "archivo=open(\"clustalw2.exe\")\n",
    "print (archivo)"
   ]
  },
  {
   "cell_type": "code",
   "execution_count": null,
   "id": "daa9f8a5",
   "metadata": {},
   "outputs": [],
   "source": [
    "with open(\"secuencias1.aln\",\"r\") as aln: \n",
    "    alignment = AlignIO.read(aln,\"clustal\")\n",
    "    \n",
    "from Bio.Phylo.TreeConstruction import DistanceCalculator \n",
    "calculator = DistanceCalculator('identity')\n",
    " \n",
    "distance_matrix = calculator.get_distance(alignment)\n",
    "\n",
    "\n",
    "from Bio.Phylo.TreeConstruction import DistanceTreeConstructor\n",
    "constructor = DistanceTreeConstructor(calculator)\n",
    "\n",
    "# Construir el arbol \n",
    "align_total = constructor.build_tree(alignment)\n",
    "align_total.rooted = True\n",
    "Phylo.write(align_total, \"align_protein_ribosomal.xml\", \"phyloxml\")\n",
    "\n",
    "align_protein_ribosomal = Phylo.read(file=\"align_protein_ribosomal.xml\", format= \"phyloxml\")\n",
    "\n",
    "# Arbol elemental en Matplotlib\n",
    "import matplotlib\n",
    "import matplotlib.pyplot as plt\n",
    "fig = Phylo.draw(cis_tree)\n",
    "\n",
    "fig = plt.figure(figsize=(30, 40), dpi=100)  \n",
    "matplotlib.rc('font', size=20)             \n",
    "matplotlib.rc('xtick', labelsize=20)       \n",
    "matplotlib.rc('ytick', labelsize=20)       \n",
    "axes = fig.add_subplot(1, 1, 1)\n",
    "Phylo.draw(align_protein_ribosomal, axes=axes)\n",
    "fig.savefig(\"align_protein_ribosomal.jpg\")"
   ]
  },
  {
   "cell_type": "markdown",
   "id": "f1877b59",
   "metadata": {},
   "source": [
    "### Referencia Bibliograficas \n",
    "* Rodriguez, A; Galindo, A & Perez, C. (2012). Biologia Celular. Terera edición. Universidad Autónoma de Sinaloa. Dirección General de Escuelas Preparatorias. Culiacán, Sinaloa, México.Recuperado de http://dgep.uas.uasnet.mx\n",
    "\n",
    "* Dincova, D & Sanchez, E (2010). Ribosoma: lo que nos ha enseñado su estructura. https://doi.org/10.1016/S0187-893X(18)30079-X\n",
    "\n",
    "* Gualerzi, C., Caserta, E., La Teana, A., Spurio, R., Tomsie, J., y Pon, C. (2000). Translation initiation in bacteria. In The ribosome: Structure, function, antibiotics, and cellular interactions (eds. R.A. Garrett et al.), ASM Press, Washington, D.C. pp. 477–494. \n",
    "\n",
    "* Steitz, T.A. y Moore, P.B. (2003). The structural basis of large ribosomal subunit function. Annu. Rev. Biochem. 72: 813-850.\n",
    "\n",
    "* Ali, A., Wuyts, J., De Wachter, R., Meyer, A. y Van de Peer, Y. (1999). Construction of a variability map for eukaryotic large subunit ribosomal RNA. Nucleic Acids Research. 27: 2825-2831."
   ]
  },
  {
   "cell_type": "code",
   "execution_count": null,
   "id": "9d665da8",
   "metadata": {},
   "outputs": [],
   "source": []
  }
 ],
 "metadata": {
  "kernelspec": {
   "display_name": "Python 3 (ipykernel)",
   "language": "python",
   "name": "python3"
  },
  "language_info": {
   "codemirror_mode": {
    "name": "ipython",
    "version": 3
   },
   "file_extension": ".py",
   "mimetype": "text/x-python",
   "name": "python",
   "nbconvert_exporter": "python",
   "pygments_lexer": "ipython3",
   "version": "3.9.12"
  }
 },
 "nbformat": 4,
 "nbformat_minor": 5
}
